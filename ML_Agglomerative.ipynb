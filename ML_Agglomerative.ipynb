{
  "nbformat": 4,
  "nbformat_minor": 0,
  "metadata": {
    "colab": {
      "name": "ML-Agglomerative.ipynb",
      "provenance": [],
      "authorship_tag": "ABX9TyMlvONOq7YApaq00tO0iRWo",
      "include_colab_link": true
    },
    "kernelspec": {
      "name": "python3",
      "display_name": "Python 3"
    },
    "language_info": {
      "name": "python"
    }
  },
  "cells": [
    {
      "cell_type": "markdown",
      "metadata": {
        "id": "view-in-github",
        "colab_type": "text"
      },
      "source": [
        "<a href=\"https://colab.research.google.com/github/ronnymunthe99/MachineLearning/blob/main/ML_Agglomerative.ipynb\" target=\"_parent\"><img src=\"https://colab.research.google.com/assets/colab-badge.svg\" alt=\"Open In Colab\"/></a>"
      ]
    },
    {
      "cell_type": "code",
      "metadata": {
        "id": "Wzkh8haFy6pj"
      },
      "source": [
        "import numpy as np\n",
        "import pandas as  pd\n",
        "from scipy import ndimage\n",
        "from scipy.cluster import hierarchy\n",
        "from scipy.spatial import distance_matrix \n",
        "from matplotlib import pyplot as plt \n",
        "from sklearn import manifold,  datasets\n",
        "from sklearn.cluster import AgglomerativeClustering\n",
        "from sklearn.datasets import make_blobs \n",
        "%matplotlib inline"
      ],
      "execution_count": null,
      "outputs": []
    },
    {
      "cell_type": "code",
      "metadata": {
        "id": "9sal4r6Pz0Cc"
      },
      "source": [
        "X1 ,y1= make_blobs(n_samples=50,centers=[[4,4], [-2,-1], [1,1], [10,4]],cluster_std=0.9)\n"
      ],
      "execution_count": null,
      "outputs": []
    },
    {
      "cell_type": "code",
      "metadata": {
        "colab": {
          "base_uri": "https://localhost:8080/",
          "height": 285
        },
        "id": "-2era5UM1Ug0",
        "outputId": "c3fdfb4c-e461-4683-ed64-2cae02914836"
      },
      "source": [
        "plt.scatter(X1[:,0],X1[:,1], marker='o')"
      ],
      "execution_count": null,
      "outputs": [
        {
          "output_type": "execute_result",
          "data": {
            "text/plain": [
              "<matplotlib.collections.PathCollection at 0x7f1a718a0450>"
            ]
          },
          "metadata": {},
          "execution_count": 26
        },
        {
          "output_type": "display_data",
          "data": {
            "image/png": "[encoded data removed]",
            "text/plain": [
              "<Figure size 432x288 with 1 Axes>"
            ]
          },
          "metadata": {
            "needs_background": "light"
          }
        }
      ]
    },
    {
      "cell_type": "code",
      "metadata": {
        "id": "2DKZxW7S8mYq"
      },
      "source": [
        ""
      ],
      "execution_count": null,
      "outputs": []
    },
    {
      "cell_type": "code",
      "metadata": {
        "id": "eEvcLFTv2sth"
      },
      "source": [
        "agglom = AgglomerativeClustering(n_clusters = 4,linkage='average')"
      ],
      "execution_count": null,
      "outputs": []
    },
    {
      "cell_type": "code",
      "metadata": {
        "colab": {
          "base_uri": "https://localhost:8080/"
        },
        "id": "ZdwXHb7g2b-j",
        "outputId": "481c4445-8fd2-4756-e231-cc656d979e0e"
      },
      "source": [
        "agglom.fit(X1,y1)"
      ],
      "execution_count": null,
      "outputs": [
        {
          "output_type": "execute_result",
          "data": {
            "text/plain": [
              "AgglomerativeClustering(linkage='average', n_clusters=4)"
            ]
          },
          "metadata": {},
          "execution_count": 28
        }
      ]
    },
    {
      "cell_type": "code",
      "metadata": {
        "colab": {
          "base_uri": "https://localhost:8080/",
          "height": 252
        },
        "id": "y_6T9yex27AR",
        "outputId": "3aeb3a07-1376-462f-a837-c94f3cf79968"
      },
      "source": [
        "#Create a figure of size 6 inches by 4 inches. \n",
        "plt.figure(figsize=(6,4)) \n",
        "# These two Lines of code are used to scale the data points down, \n",
        "# Or else the data points will be scattered very for apart. \n",
        "\n",
        "# Create a minimum and maximum range of Al. \n",
        "x_min, x_max  =  np.min(X1,  axis=0),np.max(X1,axis=0)\n",
        "# Get the average distance for Xl. \n",
        "X1=(X1 -x_min)/ (x_max - x_min) \n",
        "# This loop displays all of the datopoints. \n",
        "for i in range(X1.shape[0]):\n",
        "   # Replace the data points with their respective auster value \n",
        "   # (ex.0)  and is rotor coded with a cotormap (ott.cm.spectraL) \n",
        "   plt.text(X1[i,0],  X1[i,1],  str(y1[i]), \n",
        "            color=plt.cm.nipy_spectral(agglom.labels_[i] / 10.), \n",
        "            fontdict={'weight':'bold','size':9})\n",
        "            \n",
        "# Remove the x ticks, y ticks, x and y axis \n",
        "plt.xticks([]) \n",
        "plt.yticks([]) \n",
        "#plt.axiss('off') \n",
        "# Display the got of the original  data before ciustering\n",
        "plt.scatter(X1[:,0], X1[:,1], marker='.')\n",
        "# Display the plt \n",
        "plt.show()\n"
      ],
      "execution_count": null,
      "outputs": [
        {
          "output_type": "display_data",
          "data": {
            "image/png": "[encoded data removed]",
            "text/plain": [
              "<Figure size 432x288 with 1 Axes>"
            ]
          },
          "metadata": {}
        }
      ]
    },
    {
      "cell_type": "code",
      "metadata": {
        "colab": {
          "base_uri": "https://localhost:8080/"
        },
        "id": "ebE-MTCn6mrn",
        "outputId": "4024892a-ffd5-47bb-cb64-c9be4049f554"
      },
      "source": [
        "dist_matrix = distance_matrix(X1,X1)\n",
        "print(dist_matrix)"
      ],
      "execution_count": null,
      "outputs": [
        {
          "output_type": "stream",
          "name": "stdout",
          "text": [
            "[[0.         0.21323253 0.54372649 ... 0.33685602 1.00213603 0.15774853]\n",
            " [0.21323253 0.         0.72274938 ... 0.54872709 1.16010752 0.31293534]\n",
            " [0.54372649 0.72274938 0.         ... 0.30473128 0.46862928 0.40984501]\n",
            " ...\n",
            " [0.33685602 0.54872709 0.30473128 ... 0.         0.76470209 0.28512052]\n",
            " [1.00213603 1.16010752 0.46862928 ... 0.76470209 0.         0.8552284 ]\n",
            " [0.15774853 0.31293534 0.40984501 ... 0.28512052 0.8552284  0.        ]]\n"
          ]
        }
      ]
    },
    {
      "cell_type": "code",
      "metadata": {
        "id": "UHySOl5068C3",
        "colab": {
          "base_uri": "https://localhost:8080/"
        },
        "outputId": "d6f32e58-f25c-4a83-c9fe-2223bb57a0f6"
      },
      "source": [
        "Y= hierarchy.linkage(dist_matrix,'single')\n",
        "X= hierarchy.linkage(dist_matrix,'average')"
      ],
      "execution_count": null,
      "outputs": [
        {
          "output_type": "stream",
          "name": "stderr",
          "text": [
            "/usr/local/lib/python3.7/dist-packages/ipykernel_launcher.py:1: ClusterWarning: scipy.cluster: The symmetric non-negative hollow observation matrix looks suspiciously like an uncondensed distance matrix\n",
            "  \"\"\"Entry point for launching an IPython kernel.\n",
            "/usr/local/lib/python3.7/dist-packages/ipykernel_launcher.py:2: ClusterWarning: scipy.cluster: The symmetric non-negative hollow observation matrix looks suspiciously like an uncondensed distance matrix\n",
            "  \n",
            "/usr/local/lib/python3.7/dist-packages/ipykernel_launcher.py:3: ClusterWarning: scipy.cluster: The symmetric non-negative hollow observation matrix looks suspiciously like an uncondensed distance matrix\n",
            "  This is separate from the ipykernel package so we can avoid doing imports until\n"
          ]
        }
      ]
    },
    {
      "cell_type": "code",
      "metadata": {
        "colab": {
          "base_uri": "https://localhost:8080/",
          "height": 266
        },
        "id": "YajuR0u38CWn",
        "outputId": "b9828f0b-ecb6-4a67-c6d3-6194aca75e59"
      },
      "source": [
        "dendro = hierarchy.dendrogram(Z)"
      ],
      "execution_count": null,
      "outputs": [
        {
          "output_type": "display_data",
          "data": {
            "image/png": "[encoded data removed]",
            "text/plain": [
              "<Figure size 432x288 with 1 Axes>"
            ]
          },
          "metadata": {
            "needs_background": "light"
          }
        }
      ]
    },
    {
      "cell_type": "code",
      "metadata": {
        "colab": {
          "base_uri": "https://localhost:8080/",
          "height": 266
        },
        "id": "8tJ3UsqTltu-",
        "outputId": "989be832-bb9f-4263-87c8-30086ea3effc"
      },
      "source": [
        "dendro = hierarchy.dendrogram(Y)"
      ],
      "execution_count": null,
      "outputs": [
        {
          "output_type": "display_data",
          "data": {
            "image/png": "[encoded data removed]",
            "text/plain": [
              "<Figure size 432x288 with 1 Axes>"
            ]
          },
          "metadata": {
            "needs_background": "light"
          }
        }
      ]
    },
    {
      "cell_type": "code",
      "metadata": {
        "colab": {
          "base_uri": "https://localhost:8080/",
          "height": 266
        },
        "id": "wXiiZdcQlt48",
        "outputId": "80cd3a9e-13ac-4614-90ba-48da27cf5f7d"
      },
      "source": [
        "dendro = hierarchy.dendrogram(X)"
      ],
      "execution_count": null,
      "outputs": [
        {
          "output_type": "display_data",
          "data": {
            "image/png": "[encoded data removed]",
            "text/plain": [
              "<Figure size 432x288 with 1 Axes>"
            ]
          },
          "metadata": {
            "needs_background": "light"
          }
        }
      ]
    }
  ]
}